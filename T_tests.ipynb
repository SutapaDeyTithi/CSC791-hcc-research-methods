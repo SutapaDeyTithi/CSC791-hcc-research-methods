{
  "nbformat": 4,
  "nbformat_minor": 0,
  "metadata": {
    "colab": {
      "provenance": []
    },
    "kernelspec": {
      "name": "python3",
      "display_name": "Python 3"
    },
    "language_info": {
      "name": "python"
    }
  },
  "cells": [
    {
      "cell_type": "code",
      "execution_count": 146,
      "metadata": {
        "id": "_E2xs5rnREMQ"
      },
      "outputs": [],
      "source": [
        "import pandas as pd\n",
        "from scipy import stats\n",
        "import matplotlib.pyplot as plt\n",
        "import numpy as np\n",
        "import warnings\n",
        "warnings.filterwarnings (\"ignore\")"
      ]
    },
    {
      "cell_type": "markdown",
      "source": [
        "#Paired T test\n",
        "https://pythonfordatascienceorg.wordpress.com/paired-samples-t-test-python/\n",
        "\n",
        "https://libguides.library.kent.edu/spss/pairedsamplesttest\n",
        "\n",
        "https://libguides.library.kent.edu/SPSS/citation "
      ],
      "metadata": {
        "id": "oaiYzfe5fdAj"
      }
    },
    {
      "cell_type": "code",
      "source": [
        "# load data\n",
        "df = pd.read_csv (\"Sample_Dataset_2014.csv\")\n",
        "df = df[['Math','English']]\n",
        "print (\"Shape of dataset:\", df.shape)"
      ],
      "metadata": {
        "colab": {
          "base_uri": "https://localhost:8080/"
        },
        "id": "v7Cgf_tKfNmX",
        "outputId": "c1a0b747-b19a-4d63-8c8e-4dc36ec34136"
      },
      "execution_count": 147,
      "outputs": [
        {
          "output_type": "stream",
          "name": "stdout",
          "text": [
            "Shape of dataset: (435, 2)\n"
          ]
        }
      ]
    },
    {
      "cell_type": "code",
      "source": [
        "# clean data\n",
        "print (\"nan values in columns Math and English:\", df['Math'].isna().sum(), df['English'].isna().sum())\n",
        "\n",
        "df = df[(df.Math != ' ')]\n",
        "df = df[(df.English != ' ')]\n",
        "df.reset_index (inplace = True)\n",
        "df = df.drop ('index', axis=1)\n",
        "df['Math'] = df['Math'].astype(float)\n",
        "df['English'] = df['English'].astype(float)\n",
        "print (\"Shape of dataset after preprocessing:\", df.shape)\n",
        "print (df.columns)\n",
        "\n",
        "for i in range (df.shape[0]):\n",
        "  if df['Math'][i] == \" \":\n",
        "    print (\"Math\")\n",
        "  if df['English'][i] == \" \":\n",
        "    print (\"English\")"
      ],
      "metadata": {
        "colab": {
          "base_uri": "https://localhost:8080/"
        },
        "id": "dvHJB200VZOS",
        "outputId": "2211ca9e-331b-453e-8a8a-e54b7a0a02ce"
      },
      "execution_count": 148,
      "outputs": [
        {
          "output_type": "stream",
          "name": "stdout",
          "text": [
            "nan values in columns Math and English: 0 0\n",
            "Shape of dataset after preprocessing: (398, 2)\n",
            "Index(['Math', 'English'], dtype='object')\n"
          ]
        }
      ]
    },
    {
      "cell_type": "code",
      "source": [
        "print (df.head (5))"
      ],
      "metadata": {
        "colab": {
          "base_uri": "https://localhost:8080/"
        },
        "id": "faGLQODfwHXA",
        "outputId": "aceee79c-a89d-41ca-a5b9-e8424f91bb42"
      },
      "execution_count": 149,
      "outputs": [
        {
          "output_type": "stream",
          "name": "stdout",
          "text": [
            "    Math  English\n",
            "0  60.02    88.24\n",
            "1  70.19    89.45\n",
            "2  71.20    96.73\n",
            "3  55.89    74.06\n",
            "4  65.52    82.61\n"
          ]
        }
      ]
    },
    {
      "cell_type": "code",
      "source": [
        "print (\"Mean scores for English vs math:\", df['English'].mean (), df['Math'].mean())"
      ],
      "metadata": {
        "colab": {
          "base_uri": "https://localhost:8080/"
        },
        "id": "9MjS53uOzGgk",
        "outputId": "544f3e2e-a525-458c-b937-39b52b793d5a"
      },
      "execution_count": 150,
      "outputs": [
        {
          "output_type": "stream",
          "name": "stdout",
          "text": [
            "Mean scores for English vs math: 82.74409547738692 65.44683417085427\n"
          ]
        }
      ]
    },
    {
      "cell_type": "code",
      "source": [
        "# histogram\n",
        "x = df['Math']\n",
        "plt.hist (x)\n",
        "plt.title ('Math Scores')\n",
        "plt.show () \n",
        "# doesn't look like a normal distribution"
      ],
      "metadata": {
        "colab": {
          "base_uri": "https://localhost:8080/",
          "height": 281
        },
        "id": "vmgnIhCOeYlP",
        "outputId": "741a31ba-9c07-49ce-e6b1-c86eb08940d8"
      },
      "execution_count": 151,
      "outputs": [
        {
          "output_type": "display_data",
          "data": {
            "text/plain": [
              "<Figure size 432x288 with 1 Axes>"
            ],
            "image/png": "[encoded data removed]"
          },
          "metadata": {
            "needs_background": "light"
          }
        }
      ]
    },
    {
      "cell_type": "code",
      "source": [
        "# histogram\n",
        "x = df['English']\n",
        "plt.hist (x)\n",
        "plt.title ('English Scores')\n",
        "plt.show ()\n",
        "# doesn't look like a normal distribution"
      ],
      "metadata": {
        "colab": {
          "base_uri": "https://localhost:8080/",
          "height": 281
        },
        "id": "tESkljSBU-Kj",
        "outputId": "16555a2b-21ae-4894-9601-e3b7eb851ad6"
      },
      "execution_count": 152,
      "outputs": [
        {
          "output_type": "display_data",
          "data": {
            "text/plain": [
              "<Figure size 432x288 with 1 Axes>"
            ],
            "image/png": "[encoded data removed]"
          },
          "metadata": {
            "needs_background": "light"
          }
        }
      ]
    },
    {
      "cell_type": "code",
      "source": [
        "# lets do a statistical test\n",
        "print (\"Math:\", stats.shapiro(df['Math']))\n",
        "print (\"English:\", stats.shapiro(df['English']))\n",
        "# p > 0.05 => normal"
      ],
      "metadata": {
        "colab": {
          "base_uri": "https://localhost:8080/"
        },
        "id": "IR1ZhoQZVJBs",
        "outputId": "22828a02-3244-4cce-eb50-70df0c83a5fe"
      },
      "execution_count": 153,
      "outputs": [
        {
          "output_type": "stream",
          "name": "stdout",
          "text": [
            "Math: ShapiroResult(statistic=0.9944291710853577, pvalue=0.15705689787864685)\n",
            "English: ShapiroResult(statistic=0.9966233968734741, pvalue=0.5731582045555115)\n"
          ]
        }
      ]
    },
    {
      "cell_type": "code",
      "source": [
        "print (\"Degree of freedom:\", df.shape[0]-1)\n",
        "print (stats.ttest_rel(df['English'], df['Math']))\n",
        "# p < 0.05 => means are different\n",
        "\n",
        "print (\"\\nThe means for Math and English scores are different.\")"
      ],
      "metadata": {
        "colab": {
          "base_uri": "https://localhost:8080/"
        },
        "id": "an6bytPScgm7",
        "outputId": "0c089fc3-3e9d-460d-fd7a-2e495dc60291"
      },
      "execution_count": 154,
      "outputs": [
        {
          "output_type": "stream",
          "name": "stdout",
          "text": [
            "Degree of freedom: 397\n",
            "Ttest_relResult(statistic=36.312568981719856, pvalue=3.0710987192210606e-128)\n",
            "\n",
            "The means for Math and English scores are different.\n"
          ]
        }
      ]
    },
    {
      "cell_type": "markdown",
      "source": [
        "#Independent T test\n",
        "https://www.pythonfordatascience.org/independent-samples-t-test-python/\n",
        "\n",
        "https://libguides.library.kent.edu/SPSS/IndependentTTest"
      ],
      "metadata": {
        "id": "D-ZaatrAfizm"
      }
    },
    {
      "cell_type": "code",
      "source": [
        "# load data\n",
        "df = pd.read_csv (\"Sample_Dataset_2014.csv\")\n",
        "df = df[['Athlete','MileMinDur']]\n",
        "print (\"Shape of dataset:\", df.shape)\n",
        "# df[['Athlete','MileMinDur']].describe ()"
      ],
      "metadata": {
        "colab": {
          "base_uri": "https://localhost:8080/"
        },
        "id": "IwSZIiLtfkYj",
        "outputId": "864483c3-19f6-4911-c63d-4763ebad3c9f"
      },
      "execution_count": 155,
      "outputs": [
        {
          "output_type": "stream",
          "name": "stdout",
          "text": [
            "Shape of dataset: (435, 2)\n"
          ]
        }
      ]
    },
    {
      "cell_type": "code",
      "source": [
        "# clean data\n",
        "print (\"nan values in columns Athlete and MileMinDur:\", df['Athlete'].isna().sum(), df['MileMinDur'].isna().sum())\n",
        "\n",
        "df = df[(df.Athlete != ' ')]\n",
        "df = df[(df.MileMinDur != ' ')]\n",
        "df.reset_index (inplace = True)\n",
        "df = df.drop ('index', axis=1)\n",
        "# df['Athlete'] = df['Athlete'].astype(float)\n",
        "# df['English'] = df['English'].astype(float)\n",
        "print (\"Shape of dataset after preprocessing:\", df.shape)\n",
        "print (df.columns)\n",
        "\n",
        "for i in range (df.shape[0]):\n",
        "  if df['Athlete'][i] == \" \":\n",
        "    print (\"Athlete\")\n",
        "  if df['MileMinDur'][i] == \" \":\n",
        "    print (\"MileMinDur\")"
      ],
      "metadata": {
        "colab": {
          "base_uri": "https://localhost:8080/"
        },
        "id": "Kk9QH3zTvZkR",
        "outputId": "fd5b54b7-ed05-4662-b920-131a3d030181"
      },
      "execution_count": 156,
      "outputs": [
        {
          "output_type": "stream",
          "name": "stdout",
          "text": [
            "nan values in columns Athlete and MileMinDur: 0 0\n",
            "Shape of dataset after preprocessing: (392, 2)\n",
            "Index(['Athlete', 'MileMinDur'], dtype='object')\n"
          ]
        }
      ]
    },
    {
      "cell_type": "code",
      "source": [
        "non_athelete = df['MileMinDur'][df['Athlete'] == 0]\n",
        "athelete = df['MileMinDur'][df['Athlete'] == 1]\n",
        "\n",
        "print (df['Athlete'].value_counts())"
      ],
      "metadata": {
        "colab": {
          "base_uri": "https://localhost:8080/"
        },
        "id": "WhVcX35AyHbM",
        "outputId": "354efeba-098b-4387-ab40-a120b479b9bc"
      },
      "execution_count": 157,
      "outputs": [
        {
          "output_type": "stream",
          "name": "stdout",
          "text": [
            "0    226\n",
            "1    166\n",
            "Name: Athlete, dtype: int64\n"
          ]
        }
      ]
    },
    {
      "cell_type": "code",
      "source": [
        "import datetime\n",
        "import time\n",
        "x = time.strptime(df['MileMinDur'][1],'%H:%M:%S')\n",
        "datetime.timedelta(hours=x.tm_hour,minutes=x.tm_min,seconds=x.tm_sec).total_seconds()\n",
        "\n",
        "for i in range (df.shape[0]):\n",
        "  x = time.strptime(df['MileMinDur'][i],'%H:%M:%S')\n",
        "  df['MileMinDur'][i] = datetime.timedelta(hours=x.tm_hour,minutes=x.tm_min,seconds=x.tm_sec).total_seconds()"
      ],
      "metadata": {
        "id": "-KHS60mHu4v5"
      },
      "execution_count": 158,
      "outputs": []
    },
    {
      "cell_type": "code",
      "source": [
        "print (df.head (5))"
      ],
      "metadata": {
        "colab": {
          "base_uri": "https://localhost:8080/"
        },
        "id": "eRpMqEYNu43Y",
        "outputId": "a0a791d3-d900-4af2-ce1d-1186f1b5a1b2"
      },
      "execution_count": 159,
      "outputs": [
        {
          "output_type": "stream",
          "name": "stdout",
          "text": [
            "   Athlete MileMinDur\n",
            "0        0      381.0\n",
            "1        0      420.0\n",
            "2        0      764.0\n",
            "3        1      385.0\n",
            "4        1      444.0\n"
          ]
        }
      ]
    },
    {
      "cell_type": "code",
      "source": [
        "print (\"Mean duration (sec/mile) for Athlete vs Non-athlete:\", df['MileMinDur'][df['Athlete'] == 1].mean (), df['MileMinDur'][df['Athlete'] == 0].mean())"
      ],
      "metadata": {
        "colab": {
          "base_uri": "https://localhost:8080/"
        },
        "id": "FYGX0ceL0w-G",
        "outputId": "5eb053f8-cc8b-4ab2-bdff-2a7e78cd920d"
      },
      "execution_count": 160,
      "outputs": [
        {
          "output_type": "stream",
          "name": "stdout",
          "text": [
            "Mean duration (sec/mile) for Athlete vs Non-athlete: 411.31325301204816 546.1017699115044\n"
          ]
        }
      ]
    },
    {
      "cell_type": "code",
      "source": [
        "# histogram\n",
        "x = df['MileMinDur'][df['Athlete'] == 0]\n",
        "plt.hist (x)\n",
        "plt.title ('Seconds/mile for Non-athletes')\n",
        "plt.show () \n",
        "# doesn't look like a normal distribution"
      ],
      "metadata": {
        "colab": {
          "base_uri": "https://localhost:8080/",
          "height": 281
        },
        "id": "9HZSudxdxycc",
        "outputId": "3c588af1-90d2-4253-ef3e-3b883fec3263"
      },
      "execution_count": 161,
      "outputs": [
        {
          "output_type": "display_data",
          "data": {
            "text/plain": [
              "<Figure size 432x288 with 1 Axes>"
            ],
            "image/png": "[encoded data removed]"
          },
          "metadata": {
            "needs_background": "light"
          }
        }
      ]
    },
    {
      "cell_type": "code",
      "source": [
        "# histogram\n",
        "x = df['MileMinDur'][df['Athlete'] == 1]\n",
        "plt.hist (x)\n",
        "plt.title ('Seconds/mile for Athletes')\n",
        "plt.show () \n",
        "# doesn't look like a normal distribution"
      ],
      "metadata": {
        "colab": {
          "base_uri": "https://localhost:8080/",
          "height": 281
        },
        "id": "LNn63nV7x6yF",
        "outputId": "052fb33d-ee4d-46b3-e869-dd2324ef24c6"
      },
      "execution_count": 162,
      "outputs": [
        {
          "output_type": "display_data",
          "data": {
            "text/plain": [
              "<Figure size 432x288 with 1 Axes>"
            ],
            "image/png": "[encoded data removed]"
          },
          "metadata": {
            "needs_background": "light"
          }
        }
      ]
    },
    {
      "cell_type": "code",
      "source": [
        "# lets do a statistical test\n",
        "print (\"MileMinDur for Non-athlete:\", stats.shapiro(df['MileMinDur'][df['Athlete'] == 0]))\n",
        "print (\"MileMinDur for Athlete:\", stats.shapiro(df['MileMinDur'][df['Athlete'] == 1]))\n",
        "# p > 0.05 => normal"
      ],
      "metadata": {
        "colab": {
          "base_uri": "https://localhost:8080/"
        },
        "id": "R733ewU40NGA",
        "outputId": "fa423c63-41de-438b-9d49-500fbef80926"
      },
      "execution_count": 163,
      "outputs": [
        {
          "output_type": "stream",
          "name": "stdout",
          "text": [
            "MileMinDur for Non-athlete: ShapiroResult(statistic=0.9884744882583618, pvalue=0.06657640635967255)\n",
            "MileMinDur for Athlete: ShapiroResult(statistic=0.9921348094940186, pvalue=0.5014042258262634)\n"
          ]
        }
      ]
    },
    {
      "cell_type": "code",
      "source": [
        "print (\"Degree of freedom:\", df.shape[0]-1)\n",
        "print (stats.ttest_ind(df['MileMinDur'][df['Athlete'] == 0],\n",
        "                df['MileMinDur'][df['Athlete'] == 1]))\n",
        "\n",
        "print (\"\\np value < 0.001, There was a significant difference in mean mile time between non-athletes and athletes.\")"
      ],
      "metadata": {
        "colab": {
          "base_uri": "https://localhost:8080/"
        },
        "id": "hbKp4GRXv-rm",
        "outputId": "12846957-44e9-4ddc-aa77-bd54d91a29d0"
      },
      "execution_count": 165,
      "outputs": [
        {
          "output_type": "stream",
          "name": "stdout",
          "text": [
            "Degree of freedom: 391\n",
            "Ttest_indResult(statistic=13.476224935291887, pvalue=2.992943168109596e-34)\n",
            "\n",
            "p value < 0.001, There was a significant difference in mean mile time between non-athletes and athletes.\n"
          ]
        }
      ]
    }
  ]
}